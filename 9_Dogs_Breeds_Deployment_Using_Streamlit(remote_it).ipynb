{
  "nbformat": 4,
  "nbformat_minor": 0,
  "metadata": {
    "colab": {
      "name": "9 Dogs Breeds Deployment Using Streamlit(remote.it).ipynb",
      "provenance": [],
      "collapsed_sections": []
    },
    "kernelspec": {
      "name": "python3",
      "display_name": "Python 3"
    },
    "language_info": {
      "name": "python"
    }
  },
  "cells": [
    {
      "cell_type": "code",
      "metadata": {
        "colab": {
          "base_uri": "https://localhost:8080/"
        },
        "id": "yPbJJ4Ymq83Z",
        "outputId": "2da88626-107d-483b-8289-79e7b71475dd"
      },
      "source": [
        "!curl -LkO https://raw.githubusercontent.com/remoteit/installer/master/scripts/auto-install.sh\n",
        "! chmod +x ./auto-install.sh\n",
        "! sudo ./auto-install.sh"
      ],
      "execution_count": 1,
      "outputs": [
        {
          "output_type": "stream",
          "text": [
            "  % Total    % Received % Xferd  Average Speed   Time    Time     Time  Current\n",
            "                                 Dload  Upload   Total   Spent    Left  Speed\n",
            "100 11536  100 11536    0     0  44199      0 --:--:-- --:--:-- --:--:-- 44199\n",
            "\n",
            " curl found \n",
            "********************************************************\n",
            "remote.it platform and binary tester version 2.6.39 \n",
            "Current directory /content\n",
            "Wed Aug 11 05:33:46 UTC 2021\n",
            "********************************************************\n",
            "Linux e5ba57b07764 5.4.104+ #1 SMP Sat Jun 5 09:50:34 PDT 2021 x86_64 x86_64 x86_64 GNU/Linux\n",
            "Detected architecture is x86_64\n",
            "/usr/bin/dpkg\n",
            "Debian OS detected.\n",
            "amd64 architecture detected.\n",
            "\n",
            "Downloading and testing connectd.x86_64-ubuntu16.04...\n",
            "Looks compatible.\n",
            "connectd.x86_64-ubuntu16.04 is compatible!\n",
            "filename connectd_2.6.39_amd64.deb\n",
            "filepath https://github.com/remoteit/installer/releases/download/v2.6.39/connectd_2.6.39_amd64.deb\n",
            "Selecting previously unselected package connectd.\n",
            "(Reading database ... 160837 files and directories currently installed.)\n",
            "Preparing to unpack connectd_2.6.39_amd64.deb ...\n",
            "Unpacking connectd (2.6.39) ...\n",
            "Setting up connectd (2.6.39) ...\n",
            "\n",
            "================================================================================\n",
            "Run \"sudo connectd_installer\" to interactively install remote.it Services on this device.\n",
            "\n",
            "See https://support.remote.it/hc/en-us/sections/360010786372-Using-the-connectd-package\n",
            "for more information.\n",
            "\n",
            "================================================================================\n"
          ],
          "name": "stdout"
        }
      ]
    },
    {
      "cell_type": "code",
      "metadata": {
        "colab": {
          "base_uri": "https://localhost:8080/"
        },
        "id": "f38U7qFWs4Xh",
        "outputId": "3146b504-ccec-421f-f3c8-9ee3e42d97cc"
      },
      "source": [
        "! sudo connectd_installer"
      ],
      "execution_count": 2,
      "outputs": [
        {
          "output_type": "stream",
          "text": [
            "/usr/bin/connectd_installer: 67: /usr/bin/connectd_options: ip: not found\n",
            "\n",
            "remote.it connection installer Version: 2.6.39 lib_v2.6.29 \n",
            "Modified: June 10, 2020 (library) April 24, 2021 \n",
            "Build date: Fri Apr 30 15:44:51 UTC 2021\n",
            "curl with SSL support installed.\n",
            "\n",
            "Checking the daemon for compatibility... \n",
            "\n",
            "Using architecture x86_64-ubuntu16.04...\n",
            "\n",
            "Checking your network for compatibility... \n",
            "\n",
            "Network connection OK...\n",
            "Your network is compatible with remote.it services.\n",
            "\n",
            "********************* Sign In Menu *********************\n",
            "                                                      \n",
            "     1) Sign in to your remote.it account with username and password   \n",
            "     2) Sign in to your remote.it account with access key and secret   \n",
            "     3) Exit                                          \n",
            "                                                      \n",
            "********************************************************\n",
            "*  To create a remote.it account, please visit         *\n",
            "*  https://remote.it                                   *\n",
            "********************************************************\n",
            "\n",
            "Choose a menu selection (1 - 3):\n",
            "1\n",
            "\n",
            "Please enter your remote.it Username (e-mail address): \n",
            "minaf18348@5ubo.com\n",
            "\n",
            "Please enter your remote.it password: \n",
            ".\n",
            "/usr/bin/connectd_installer: 251: /usr/bin/connectd_installer: ip: not found\n",
            "..Created symlink /etc/systemd/system/multi-user.target.wants/connectd.service → /lib/systemd/system/connectd.service.\n",
            "Created symlink /etc/systemd/system/multi-user.target.wants/connectd_schannel.service → /lib/systemd/system/connectd_schannel.service.\n",
            "System has not been booted with systemd as init system (PID 1). Can't operate.\n",
            "System has not been booted with systemd as init system (PID 1). Can't operate.\n",
            "..\n",
            "==========================================\n",
            "Allocated UID: 80:00:00:00:01:1A:B5:BD. \n",
            "\n",
            "..\n",
            "\n",
            "Enter a name for your device (e.g. my_Pi_001).\n",
            "\n",
            "The Device Name identifies your device in the remote.it portal.\n",
            "Your services will be grouped under the Device Name.\n",
            "\n",
            "Only letters, numbers, underscore, space and dash are allowed.\n",
            "\n",
            "colab\n",
            ".\n",
            "Registering colab\n",
            ".......\n",
            "\n",
            "/usr/bin/Connectdrmt365535: 67: /usr/bin/connectd_options: ip: not found\n",
            "System has not been booted with systemd as init system (PID 1). Can't operate.\n",
            "\n",
            "\n",
            "=========================  Installed remote.it Services  ======================\n",
            " Service Name       | Protocol   | LAN Address        | Port | Application     \n",
            "-------------------------------------------------------------------------------\n",
            "-------------------------------------------------------------------------------\n",
            " Device Name: colab  Platform: x86_64-ubuntu16.04\n",
            " Hardware ID: -n71BG096kuqie8cxoiEW\n",
            "\n",
            "============================ Main Menu ============================\n",
            "                                                                   \n",
            "    1) Attach/reinstall a remote.it Service to an application      \n",
            "    2) Attach/reinstall a remote.it Service to a LAN application   \n",
            "    3) Remove a remote.it Service from an application              \n",
            "    4) Remove all remote.it Services, then exit                    \n",
            "    5) Exit                                                        \n",
            "                                                                   \n",
            "===================================================================\n",
            "    'application' is any TCP service (e.g. SSH, VNC, HTTP, etc.)   \n",
            "    running on this device.  'LAN application' is a TCP service    \n",
            "    running on another device on this LAN.                         \n",
            "===================================================================\n",
            "Choose a menu selection (1 - 5):\n",
            "1\n",
            "\n",
            "\n",
            "*********** Protocol Selection Menu ***********\n",
            "                                             \n",
            "     1) SSH on port 22                       \n",
            "     2) Web (HTTP) on port 80                \n",
            "     3) Secure Web (HTTPS) on port 443       \n",
            "     4) VNC on port 5900                     \n",
            "     5) nxWitness on port 7001               \n",
            "     6) Samba (SMB) on port 445              \n",
            "     7) Remote Desktop (RDP) on port 3389    \n",
            "     8) NextCloud on port 443                \n",
            "     9) OpenVPN on port 1194                 \n",
            "     10) Custom (TCP)                        \n",
            "     11) Return to previous menu             \n",
            "                                             \n",
            "***********************************************\n",
            "\n",
            " You can change the port value during install  \n",
            "\n",
            "***********************************************\n",
            "\n",
            "Choose a menu selection (1 - 11):\n",
            "2\n",
            "\n",
            "The default port for Web (http) is 80.\n",
            "\n",
            "Would you like to continue with the default port assignment? [y/n] \n",
            "y\n",
            "We will attach a remote.it Service to the following Application:\n",
            "\n",
            "Protocol: web \n",
            "Port #: 80\n",
            ".\n",
            "....\n",
            "==========================================\n",
            "Allocated UID: 80:00:00:00:01:1A:B5:BE. \n",
            "\n",
            "..\n",
            "\n",
            "Enter a name for this remote.it service (e.g. web-Pi). \n",
            "This name will be shown in your remote.it Service List.\n",
            "\n",
            "Only letters, numbers, underscore, space and dash are allowed.\n",
            "\n",
            "colab\n",
            ".\n",
            "Registering colab\n",
            ".......\n",
            "\n",
            "/usr/bin/Connectdweb80: 67: /usr/bin/connectd_options: ip: not found\n",
            "System has not been booted with systemd as init system (PID 1). Can't operate.\n",
            "\n",
            "\n",
            "=========================  Installed remote.it Services  ======================\n",
            " Service Name       | Protocol   | LAN Address        | Port | Application     \n",
            "-------------------------------------------------------------------------------\n",
            " colab              | HTTP       | localhost          | 80   | not detected     \n",
            "-------------------------------------------------------------------------------\n",
            " Device Name: colab  Platform: x86_64-ubuntu16.04\n",
            " Hardware ID: -n71BG096kuqie8cxoiEW\n",
            "============================================================\n",
            "      'not detected' indicates that there is no TCP \n",
            "      listener detected at that address and port. \n",
            "      Please check your application's settings.\n",
            "============================================================\n",
            "\n",
            "============================ Main Menu ============================\n",
            "                                                                   \n",
            "    1) Attach/reinstall a remote.it Service to an application      \n",
            "    2) Attach/reinstall a remote.it Service to a LAN application   \n",
            "    3) Remove a remote.it Service from an application              \n",
            "    4) Remove all remote.it Services, then exit                    \n",
            "    5) Exit                                                        \n",
            "                                                                   \n",
            "===================================================================\n",
            "    'application' is any TCP service (e.g. SSH, VNC, HTTP, etc.)   \n",
            "    running on this device.  'LAN application' is a TCP service    \n",
            "    running on another device on this LAN.                         \n",
            "===================================================================\n",
            "Choose a menu selection (1 - 5):\n",
            "5\n",
            "\n",
            "\n",
            "Are you sure you want to exit? [y/n] \n",
            "y\n"
          ],
          "name": "stdout"
        }
      ]
    },
    {
      "cell_type": "code",
      "metadata": {
        "id": "rv37zm8lueUf"
      },
      "source": [
        "!pip install streamlit"
      ],
      "execution_count": null,
      "outputs": []
    },
    {
      "cell_type": "code",
      "metadata": {
        "colab": {
          "base_uri": "https://localhost:8080/"
        },
        "id": "Hu6r7Gdcue1-",
        "outputId": "b98c5b51-caa5-462a-dc66-ddc36ef754ab"
      },
      "source": [
        "%%writefile app.py\n",
        "import streamlit as st\n",
        "from keras.models import load_model\n",
        "from PIL import Image, ImageOps\n",
        "import time\n",
        "import numpy as np\n",
        "\n",
        "predictions = {0: 'Akita Inu',\n",
        " 1: 'Beagle',\n",
        " 2: 'Bull Dog',\n",
        " 3: 'Chihuahua',\n",
        " 4: 'Dachshund',\n",
        " 5: 'Golden_Retreiver',\n",
        " 6: 'Poodle',\n",
        " 7: 'Shih_Tzu',\n",
        " 8: 'Siberian_Husky'}\n",
        "\n",
        "def dogs_breed_classification(img, weights_file):\n",
        "  # Load the model\n",
        "  model = load_model(weights_file)\n",
        "  # Create the array of the right shape to feed into the keras model\n",
        "  data = np.ndarray(shape=(1, 224, 224, 3), dtype=np.float32)\n",
        "  image = img\n",
        "  #image sizing\n",
        "  size = (224, 224)\n",
        "  image = ImageOps.fit(image, size, Image.ANTIALIAS)\n",
        "  #turn the image into a numpy array\n",
        "  image_array = np.asarray(image)\n",
        "  # Normalize the image\n",
        "  normalized_image_array = (image_array.astype(np.float32) / 127.0) - 1\n",
        "  # Load the image into the array\n",
        "  data[0] = normalized_image_array\n",
        "  # run the inference\n",
        "  prediction = model.predict(data)\n",
        "  return np.argmax(prediction) # return position of the highest probability\n",
        "\n",
        "st.title(\"9 Dogs Breeds Classification\")\n",
        "st.header(\"9 Types of Dogs Breeds Classification and Identification.\")\n",
        "st.text(\"Upload a dog's for image classification to classify breeds.\")\n",
        "\n",
        "uploaded_file = st.file_uploader(\"Choose a Dog,s Image ...\", type=\"jpg\")\n",
        "if uploaded_file is not None:\n",
        "  image = Image.open(uploaded_file)\n",
        "  st.image(image, caption='Uploaded Image.', use_column_width=True)\n",
        "  st.write(\"\")\n",
        "  st.write(\"Classifying...\")\n",
        "  label = dogs_breed_classification(image, '/content/dogs_breeds.h5')\n",
        "  st.write(f\"This Dog's Breed is {predictions[label]}.\")"
      ],
      "execution_count": 12,
      "outputs": [
        {
          "output_type": "stream",
          "text": [
            "Overwriting app.py\n"
          ],
          "name": "stdout"
        }
      ]
    },
    {
      "cell_type": "code",
      "metadata": {
        "id": "7xPnsrDsuon9"
      },
      "source": [
        "!streamlit run --server.port 80 app.py --&>/dev/null&"
      ],
      "execution_count": 13,
      "outputs": []
    },
    {
      "cell_type": "code",
      "metadata": {
        "colab": {
          "base_uri": "https://localhost:8080/"
        },
        "id": "nGSKXeacvVaI",
        "outputId": "5d63b625-7640-4429-baf5-2706b29597c3"
      },
      "source": [
        "from google.colab import drive\n",
        "drive.mount('/content/drive')"
      ],
      "execution_count": 6,
      "outputs": [
        {
          "output_type": "stream",
          "text": [
            "Mounted at /content/drive\n"
          ],
          "name": "stdout"
        }
      ]
    },
    {
      "cell_type": "code",
      "metadata": {
        "id": "ZszKNa3KvXnk"
      },
      "source": [
        "!cp \"/content/drive/MyDrive/dogs_breeds.h5\" \"/content\""
      ],
      "execution_count": 7,
      "outputs": []
    },
    {
      "cell_type": "code",
      "metadata": {
        "id": "fIhBQpLEw0Ko"
      },
      "source": [
        ""
      ],
      "execution_count": null,
      "outputs": []
    }
  ]
}